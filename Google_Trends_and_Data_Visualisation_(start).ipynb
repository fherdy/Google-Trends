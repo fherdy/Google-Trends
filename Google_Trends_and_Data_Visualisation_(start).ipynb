{
  "cells": [
    {
      "cell_type": "markdown",
      "metadata": {
        "id": "view-in-github",
        "colab_type": "text"
      },
      "source": [
        "<a href=\"https://colab.research.google.com/github/fherdy/Google-Trends/blob/main/Google_Trends_and_Data_Visualisation_(start).ipynb\" target=\"_parent\"><img src=\"https://colab.research.google.com/assets/colab-badge.svg\" alt=\"Open In Colab\"/></a>"
      ]
    },
    {
      "cell_type": "markdown",
      "metadata": {
        "id": "g1U9ApyOuoiG"
      },
      "source": [
        "# Introduction"
      ]
    },
    {
      "cell_type": "markdown",
      "metadata": {
        "id": "6Fkw6L7OuoiI"
      },
      "source": [
        "Google Trends gives us an estimate of search volume. Let's explore if search popularity relates to other kinds of data. Perhaps there are patterns in Google's search volume and the price of Bitcoin or a hot stock like Tesla. Perhaps search volume for the term \"Unemployment Benefits\" can tell us something about the actual unemployment rate? \n",
        "\n",
        "Data Sources: <br>\n",
        "<ul>\n",
        "<li> <a href=\"https://fred.stlouisfed.org/series/UNRATE/\">Unemployment Rate from FRED</a></li>\n",
        "<li> <a href=\"https://trends.google.com/trends/explore\">Google Trends</a> </li>  \n",
        "<li> <a href=\"https://finance.yahoo.com/quote/TSLA/history?p=TSLA\">Yahoo Finance for Tesla Stock Price</a> </li>    \n",
        "<li> <a href=\"https://finance.yahoo.com/quote/BTC-USD/history?p=BTC-USD\">Yahoo Finance for Bitcoin Stock Price</a> </li>\n",
        "</ul>"
      ]
    },
    {
      "cell_type": "markdown",
      "metadata": {
        "id": "dGQe4JqjuoiK"
      },
      "source": [
        "# Import Statements"
      ]
    },
    {
      "cell_type": "code",
      "execution_count": 1,
      "metadata": {
        "id": "QcWt972luoiL"
      },
      "outputs": [],
      "source": [
        "import pandas as pd\n",
        "import matplotlib.pyplot as plt"
      ]
    },
    {
      "cell_type": "markdown",
      "metadata": {
        "id": "yBBmS5AXuoiM"
      },
      "source": [
        "# Read the Data\n",
        "\n",
        "Download and add the .csv files to the same folder as your notebook."
      ]
    },
    {
      "cell_type": "code",
      "execution_count": 2,
      "metadata": {
        "id": "K4Cmi96Ouojk"
      },
      "outputs": [],
      "source": [
        "df_tesla = pd.read_csv('TESLA Search Trend vs Price.csv')\n",
        "\n",
        "df_btc_search = pd.read_csv('Bitcoin Search Trend.csv')\n",
        "df_btc_price = pd.read_csv('Daily Bitcoin Price.csv')\n",
        "\n",
        "df_unemployment = pd.read_csv('UE Benefits Search vs UE Rate 2004-19.csv')"
      ]
    },
    {
      "cell_type": "markdown",
      "metadata": {
        "id": "bWtSANpOuojm"
      },
      "source": [
        "# Data Exploration"
      ]
    },
    {
      "cell_type": "markdown",
      "metadata": {
        "id": "dhJsIBFtuojn"
      },
      "source": [
        "### Tesla"
      ]
    },
    {
      "cell_type": "markdown",
      "metadata": {
        "id": "ezPrzQhWuojo"
      },
      "source": [
        "**Challenge**: <br>\n",
        "<ul>\n",
        "<li>What are the shapes of the dataframes? </li>\n",
        "<li>How many rows and columns? </li>\n",
        "<li>What are the column names? </li>\n",
        "<li>Complete the f-string to show the largest/smallest number in the search data column</li> \n",
        "<li>Try the <code>.describe()</code> function to see some useful descriptive statistics</li>\n",
        "<li>What is the periodicity of the time series data (daily, weekly, monthly)? </li>\n",
        "<li>What does a value of 100 in the Google Trend search popularity actually mean?</li>\n",
        "</ul>"
      ]
    },
    {
      "cell_type": "code",
      "execution_count": 3,
      "metadata": {
        "colab": {
          "base_uri": "https://localhost:8080/",
          "height": 336
        },
        "id": "sYbBVp17uojp",
        "outputId": "96bb262a-681d-49c3-b451-4a04538c7dfd"
      },
      "outputs": [
        {
          "output_type": "stream",
          "name": "stdout",
          "text": [
            "(124, 3)\n",
            "Index(['MONTH', 'TSLA_WEB_SEARCH', 'TSLA_USD_CLOSE'], dtype='object')\n"
          ]
        },
        {
          "output_type": "execute_result",
          "data": {
            "text/plain": [
              "       TSLA_WEB_SEARCH  TSLA_USD_CLOSE\n",
              "count       124.000000      124.000000\n",
              "mean          8.725806       50.962145\n",
              "std           5.870332       65.908389\n",
              "min           2.000000        3.896000\n",
              "25%           3.750000        7.352500\n",
              "50%           8.000000       44.653000\n",
              "75%          12.000000       58.991999\n",
              "max          31.000000      498.320007"
            ],
            "text/html": [
              "\n",
              "  <div id=\"df-24259a77-1504-4a1c-ad97-4b1b58a7ae84\">\n",
              "    <div class=\"colab-df-container\">\n",
              "      <div>\n",
              "<style scoped>\n",
              "    .dataframe tbody tr th:only-of-type {\n",
              "        vertical-align: middle;\n",
              "    }\n",
              "\n",
              "    .dataframe tbody tr th {\n",
              "        vertical-align: top;\n",
              "    }\n",
              "\n",
              "    .dataframe thead th {\n",
              "        text-align: right;\n",
              "    }\n",
              "</style>\n",
              "<table border=\"1\" class=\"dataframe\">\n",
              "  <thead>\n",
              "    <tr style=\"text-align: right;\">\n",
              "      <th></th>\n",
              "      <th>TSLA_WEB_SEARCH</th>\n",
              "      <th>TSLA_USD_CLOSE</th>\n",
              "    </tr>\n",
              "  </thead>\n",
              "  <tbody>\n",
              "    <tr>\n",
              "      <th>count</th>\n",
              "      <td>124.000000</td>\n",
              "      <td>124.000000</td>\n",
              "    </tr>\n",
              "    <tr>\n",
              "      <th>mean</th>\n",
              "      <td>8.725806</td>\n",
              "      <td>50.962145</td>\n",
              "    </tr>\n",
              "    <tr>\n",
              "      <th>std</th>\n",
              "      <td>5.870332</td>\n",
              "      <td>65.908389</td>\n",
              "    </tr>\n",
              "    <tr>\n",
              "      <th>min</th>\n",
              "      <td>2.000000</td>\n",
              "      <td>3.896000</td>\n",
              "    </tr>\n",
              "    <tr>\n",
              "      <th>25%</th>\n",
              "      <td>3.750000</td>\n",
              "      <td>7.352500</td>\n",
              "    </tr>\n",
              "    <tr>\n",
              "      <th>50%</th>\n",
              "      <td>8.000000</td>\n",
              "      <td>44.653000</td>\n",
              "    </tr>\n",
              "    <tr>\n",
              "      <th>75%</th>\n",
              "      <td>12.000000</td>\n",
              "      <td>58.991999</td>\n",
              "    </tr>\n",
              "    <tr>\n",
              "      <th>max</th>\n",
              "      <td>31.000000</td>\n",
              "      <td>498.320007</td>\n",
              "    </tr>\n",
              "  </tbody>\n",
              "</table>\n",
              "</div>\n",
              "      <button class=\"colab-df-convert\" onclick=\"convertToInteractive('df-24259a77-1504-4a1c-ad97-4b1b58a7ae84')\"\n",
              "              title=\"Convert this dataframe to an interactive table.\"\n",
              "              style=\"display:none;\">\n",
              "        \n",
              "  <svg xmlns=\"http://www.w3.org/2000/svg\" height=\"24px\"viewBox=\"0 0 24 24\"\n",
              "       width=\"24px\">\n",
              "    <path d=\"M0 0h24v24H0V0z\" fill=\"none\"/>\n",
              "    <path d=\"M18.56 5.44l.94 2.06.94-2.06 2.06-.94-2.06-.94-.94-2.06-.94 2.06-2.06.94zm-11 1L8.5 8.5l.94-2.06 2.06-.94-2.06-.94L8.5 2.5l-.94 2.06-2.06.94zm10 10l.94 2.06.94-2.06 2.06-.94-2.06-.94-.94-2.06-.94 2.06-2.06.94z\"/><path d=\"M17.41 7.96l-1.37-1.37c-.4-.4-.92-.59-1.43-.59-.52 0-1.04.2-1.43.59L10.3 9.45l-7.72 7.72c-.78.78-.78 2.05 0 2.83L4 21.41c.39.39.9.59 1.41.59.51 0 1.02-.2 1.41-.59l7.78-7.78 2.81-2.81c.8-.78.8-2.07 0-2.86zM5.41 20L4 18.59l7.72-7.72 1.47 1.35L5.41 20z\"/>\n",
              "  </svg>\n",
              "      </button>\n",
              "      \n",
              "  <style>\n",
              "    .colab-df-container {\n",
              "      display:flex;\n",
              "      flex-wrap:wrap;\n",
              "      gap: 12px;\n",
              "    }\n",
              "\n",
              "    .colab-df-convert {\n",
              "      background-color: #E8F0FE;\n",
              "      border: none;\n",
              "      border-radius: 50%;\n",
              "      cursor: pointer;\n",
              "      display: none;\n",
              "      fill: #1967D2;\n",
              "      height: 32px;\n",
              "      padding: 0 0 0 0;\n",
              "      width: 32px;\n",
              "    }\n",
              "\n",
              "    .colab-df-convert:hover {\n",
              "      background-color: #E2EBFA;\n",
              "      box-shadow: 0px 1px 2px rgba(60, 64, 67, 0.3), 0px 1px 3px 1px rgba(60, 64, 67, 0.15);\n",
              "      fill: #174EA6;\n",
              "    }\n",
              "\n",
              "    [theme=dark] .colab-df-convert {\n",
              "      background-color: #3B4455;\n",
              "      fill: #D2E3FC;\n",
              "    }\n",
              "\n",
              "    [theme=dark] .colab-df-convert:hover {\n",
              "      background-color: #434B5C;\n",
              "      box-shadow: 0px 1px 3px 1px rgba(0, 0, 0, 0.15);\n",
              "      filter: drop-shadow(0px 1px 2px rgba(0, 0, 0, 0.3));\n",
              "      fill: #FFFFFF;\n",
              "    }\n",
              "  </style>\n",
              "\n",
              "      <script>\n",
              "        const buttonEl =\n",
              "          document.querySelector('#df-24259a77-1504-4a1c-ad97-4b1b58a7ae84 button.colab-df-convert');\n",
              "        buttonEl.style.display =\n",
              "          google.colab.kernel.accessAllowed ? 'block' : 'none';\n",
              "\n",
              "        async function convertToInteractive(key) {\n",
              "          const element = document.querySelector('#df-24259a77-1504-4a1c-ad97-4b1b58a7ae84');\n",
              "          const dataTable =\n",
              "            await google.colab.kernel.invokeFunction('convertToInteractive',\n",
              "                                                     [key], {});\n",
              "          if (!dataTable) return;\n",
              "\n",
              "          const docLinkHtml = 'Like what you see? Visit the ' +\n",
              "            '<a target=\"_blank\" href=https://colab.research.google.com/notebooks/data_table.ipynb>data table notebook</a>'\n",
              "            + ' to learn more about interactive tables.';\n",
              "          element.innerHTML = '';\n",
              "          dataTable['output_type'] = 'display_data';\n",
              "          await google.colab.output.renderOutput(dataTable, element);\n",
              "          const docLink = document.createElement('div');\n",
              "          docLink.innerHTML = docLinkHtml;\n",
              "          element.appendChild(docLink);\n",
              "        }\n",
              "      </script>\n",
              "    </div>\n",
              "  </div>\n",
              "  "
            ]
          },
          "metadata": {},
          "execution_count": 3
        }
      ],
      "source": [
        "print(df_tesla.shape)\n",
        "print(df_tesla.columns)\n",
        "df_tesla.describe()"
      ]
    },
    {
      "cell_type": "code",
      "source": [
        "print(df_unemployment.shape)\n",
        "df_unemployment.columns"
      ],
      "metadata": {
        "colab": {
          "base_uri": "https://localhost:8080/"
        },
        "id": "I-OPR9YU2PTT",
        "outputId": "4fdb272a-5c14-4f65-80ec-17006026dac0"
      },
      "execution_count": 4,
      "outputs": [
        {
          "output_type": "stream",
          "name": "stdout",
          "text": [
            "(181, 3)\n"
          ]
        },
        {
          "output_type": "execute_result",
          "data": {
            "text/plain": [
              "Index(['MONTH', 'UE_BENEFITS_WEB_SEARCH', 'UNRATE'], dtype='object')"
            ]
          },
          "metadata": {},
          "execution_count": 4
        }
      ]
    },
    {
      "cell_type": "code",
      "source": [
        "print(df_btc_price.shape)\n",
        "df_btc_price.columns"
      ],
      "metadata": {
        "colab": {
          "base_uri": "https://localhost:8080/"
        },
        "id": "v_RePlV-2PJS",
        "outputId": "8dad19ac-9175-49c2-ae3e-773f4cd2a831"
      },
      "execution_count": 5,
      "outputs": [
        {
          "output_type": "stream",
          "name": "stdout",
          "text": [
            "(2204, 3)\n"
          ]
        },
        {
          "output_type": "execute_result",
          "data": {
            "text/plain": [
              "Index(['DATE', 'CLOSE', 'VOLUME'], dtype='object')"
            ]
          },
          "metadata": {},
          "execution_count": 5
        }
      ]
    },
    {
      "cell_type": "code",
      "source": [
        "print(df_btc_search.shape)\n",
        "df_btc_search.columns"
      ],
      "metadata": {
        "colab": {
          "base_uri": "https://localhost:8080/"
        },
        "id": "9UV4PD3f2PAv",
        "outputId": "364a7fff-4d17-4406-f7b3-610a84e0dbe0"
      },
      "execution_count": 6,
      "outputs": [
        {
          "output_type": "stream",
          "name": "stdout",
          "text": [
            "(73, 2)\n"
          ]
        },
        {
          "output_type": "execute_result",
          "data": {
            "text/plain": [
              "Index(['MONTH', 'BTC_NEWS_SEARCH'], dtype='object')"
            ]
          },
          "metadata": {},
          "execution_count": 6
        }
      ]
    },
    {
      "cell_type": "code",
      "source": [
        ""
      ],
      "metadata": {
        "id": "Pc4jKR7l2OUp"
      },
      "execution_count": null,
      "outputs": []
    },
    {
      "cell_type": "code",
      "execution_count": 7,
      "metadata": {
        "colab": {
          "base_uri": "https://localhost:8080/"
        },
        "id": "Rg_eexU-uojq",
        "outputId": "a3190776-fe08-4298-e169-7dd29acfe79f"
      },
      "outputs": [
        {
          "output_type": "stream",
          "name": "stdout",
          "text": [
            "Largest value for Tesla in Web Search: 31\n",
            "Smallest value for Tesla in Web Search: 2\n"
          ]
        }
      ],
      "source": [
        "print(f'Largest value for Tesla in Web Search: {df_tesla[\"TSLA_WEB_SEARCH\"].max()}')\n",
        "print(f'Smallest value for Tesla in Web Search: {df_tesla[\"TSLA_WEB_SEARCH\"].min()}')"
      ]
    },
    {
      "cell_type": "markdown",
      "source": [
        ""
      ],
      "metadata": {
        "id": "ajDnBIuKAMIA"
      }
    },
    {
      "cell_type": "code",
      "execution_count": 8,
      "metadata": {
        "id": "t7ZAcDGguojt",
        "colab": {
          "base_uri": "https://localhost:8080/"
        },
        "outputId": "212a558d-06db-49f0-c7ad-d9ab95d132c5"
      },
      "outputs": [
        {
          "output_type": "stream",
          "name": "stdout",
          "text": [
            "(181, 3)\n"
          ]
        },
        {
          "output_type": "execute_result",
          "data": {
            "text/plain": [
              "Index(['MONTH', 'UE_BENEFITS_WEB_SEARCH', 'UNRATE'], dtype='object')"
            ]
          },
          "metadata": {},
          "execution_count": 8
        }
      ],
      "source": [
        "print(df_unemployment.shape)\n",
        "df_unemployment.columns"
      ]
    },
    {
      "cell_type": "code",
      "execution_count": 9,
      "metadata": {
        "id": "J6W5eC9Guojt",
        "outputId": "6eb1a117-c866-40fe-940a-d77f10fbd292",
        "colab": {
          "base_uri": "https://localhost:8080/"
        }
      },
      "outputs": [
        {
          "output_type": "stream",
          "name": "stdout",
          "text": [
            "Largest value for \"Unemployemnt Benefits\" in Web Search: 100\n"
          ]
        }
      ],
      "source": [
        "print('Largest value for \"Unemployemnt Benefits\" '\n",
        "      f'in Web Search: {df_unemployment[\"UE_BENEFITS_WEB_SEARCH\"].max()}')"
      ]
    },
    {
      "cell_type": "markdown",
      "metadata": {
        "id": "GWRqcXjRuojv"
      },
      "source": [
        "### Bitcoin"
      ]
    },
    {
      "cell_type": "code",
      "execution_count": null,
      "metadata": {
        "id": "lTbUxlAkuojv",
        "colab": {
          "base_uri": "https://localhost:8080/"
        },
        "outputId": "c2288549-b264-4719-8a90-2f251823d969"
      },
      "outputs": [
        {
          "output_type": "stream",
          "name": "stdout",
          "text": [
            "(2204, 3)\n"
          ]
        },
        {
          "output_type": "execute_result",
          "data": {
            "text/plain": [
              "Index(['DATE', 'CLOSE', 'VOLUME'], dtype='object')"
            ]
          },
          "metadata": {},
          "execution_count": 6
        }
      ],
      "source": [
        "print(df_btc_price.shape)\n",
        "df_btc_price.columns"
      ]
    },
    {
      "cell_type": "code",
      "execution_count": null,
      "metadata": {
        "id": "ii3a2p42uojv"
      },
      "outputs": [],
      "source": [
        ""
      ]
    },
    {
      "cell_type": "code",
      "source": [
        "print(df_btc_search.shape)\n",
        "df_btc_search.columns"
      ],
      "metadata": {
        "colab": {
          "base_uri": "https://localhost:8080/"
        },
        "outputId": "53f6e0db-0e8b-4fd6-e680-792bec045492",
        "id": "6qxA32ZMEtd4"
      },
      "execution_count": null,
      "outputs": [
        {
          "output_type": "stream",
          "name": "stdout",
          "text": [
            "(73, 2)\n"
          ]
        },
        {
          "output_type": "execute_result",
          "data": {
            "text/plain": [
              "Index(['MONTH', 'BTC_NEWS_SEARCH'], dtype='object')"
            ]
          },
          "metadata": {},
          "execution_count": 8
        }
      ]
    },
    {
      "cell_type": "code",
      "execution_count": null,
      "metadata": {
        "id": "KXuxYKVYuojw",
        "outputId": "f15bc0af-4d26-4bd9-c768-2b98057cefd6",
        "colab": {
          "base_uri": "https://localhost:8080/"
        }
      },
      "outputs": [
        {
          "output_type": "stream",
          "name": "stdout",
          "text": [
            "largest BTC News Search: 100\n"
          ]
        }
      ],
      "source": [
        "print(f'largest BTC News Search: {df_btc_search.BTC_NEWS_SEARCH.max()}')"
      ]
    },
    {
      "cell_type": "markdown",
      "metadata": {
        "id": "Fc5RPaCxuojw"
      },
      "source": [
        "# Data Cleaning"
      ]
    },
    {
      "cell_type": "markdown",
      "metadata": {
        "id": "qMR5Wb-1uojw"
      },
      "source": [
        "### Check for Missing Values"
      ]
    },
    {
      "cell_type": "markdown",
      "metadata": {
        "id": "g-iQi23Fuojx"
      },
      "source": [
        "**Challenge**: Are there any missing values in any of the dataframes? If so, which row/rows have missing values? How many missing values are there?"
      ]
    },
    {
      "cell_type": "code",
      "execution_count": 10,
      "metadata": {
        "id": "oJ3AgagTuojx",
        "outputId": "c15287e2-5bd0-4d26-f06b-b24da7ba1986",
        "colab": {
          "base_uri": "https://localhost:8080/"
        }
      },
      "outputs": [
        {
          "output_type": "stream",
          "name": "stdout",
          "text": [
            "Missing values for Tesla?: False\n",
            "Missing values for U/E?: False\n",
            "Missing values for BTC Search?: False\n"
          ]
        }
      ],
      "source": [
        "print(f'Missing values for Tesla?: {df_tesla.isna().values.any()}')\n",
        "print(f'Missing values for U/E?: {df_unemployment.isna().values.any()}')\n",
        "print(f'Missing values for BTC Search?: {df_btc_search.isna().values.any()}')"
      ]
    },
    {
      "cell_type": "code",
      "execution_count": 11,
      "metadata": {
        "id": "W4e_ztLBuojx",
        "outputId": "68779de6-6734-4ae4-8d64-700b519e4618",
        "colab": {
          "base_uri": "https://localhost:8080/"
        }
      },
      "outputs": [
        {
          "output_type": "stream",
          "name": "stdout",
          "text": [
            "Missing values for BTC price?: True \n"
          ]
        }
      ],
      "source": [
        "print(f'Missing values for BTC price?: {df_btc_price.isna().values.any()} ')"
      ]
    },
    {
      "cell_type": "code",
      "execution_count": 12,
      "metadata": {
        "id": "dXTt2pNauojy",
        "outputId": "ca9760c8-3e8e-425c-c113-cccbba237b6a",
        "colab": {
          "base_uri": "https://localhost:8080/"
        }
      },
      "outputs": [
        {
          "output_type": "stream",
          "name": "stdout",
          "text": [
            "Number of missing values: 2\n"
          ]
        }
      ],
      "source": [
        "print(f'Number of missing values: {df_btc_price.isna().values.sum()}')"
      ]
    },
    {
      "cell_type": "markdown",
      "metadata": {
        "id": "L0oqACOvuojy"
      },
      "source": [
        "**Challenge**: Remove any missing values that you found. "
      ]
    },
    {
      "cell_type": "code",
      "execution_count": 13,
      "metadata": {
        "id": "4jTqIsQyuojz"
      },
      "outputs": [],
      "source": [
        "df_btc_price.dropna(inplace=True)"
      ]
    },
    {
      "cell_type": "markdown",
      "metadata": {
        "id": "EeTOJxz3uojz"
      },
      "source": [
        "### Convert Strings to DateTime Objects"
      ]
    },
    {
      "cell_type": "markdown",
      "metadata": {
        "id": "9PMa6Fenuojz"
      },
      "source": [
        "**Challenge**: Check the data type of the entries in the DataFrame MONTH or DATE columns. Convert any strings in to Datetime objects. Do this for all 4 DataFrames. Double check if your type conversion was successful."
      ]
    },
    {
      "cell_type": "code",
      "execution_count": 14,
      "metadata": {
        "id": "tpW0YgEBuojz",
        "colab": {
          "base_uri": "https://localhost:8080/"
        },
        "outputId": "8b296808-3fc3-42a4-fff3-5c17554bfd47"
      },
      "outputs": [
        {
          "output_type": "execute_result",
          "data": {
            "text/plain": [
              "str"
            ]
          },
          "metadata": {},
          "execution_count": 14
        }
      ],
      "source": [
        "type(df_tesla.MONTH[0])"
      ]
    },
    {
      "cell_type": "code",
      "execution_count": 15,
      "metadata": {
        "id": "wAPNmmYxuoj0"
      },
      "outputs": [],
      "source": [
        "df_tesla.MONTH = pd.to_datetime(df_tesla.MONTH)\n",
        "df_btc_search.MONTH = pd.to_datetime(df_btc_search.MONTH)\n",
        "df_unemployment.MONTH = pd.to_datetime(df_unemployment.MONTH)\n",
        "df_btc_price.DATE = pd.to_datetime(df_btc_price.DATE)"
      ]
    },
    {
      "cell_type": "code",
      "execution_count": 16,
      "metadata": {
        "id": "r9PUp6V4uoj0",
        "colab": {
          "base_uri": "https://localhost:8080/"
        },
        "outputId": "0b9d296a-3a57-4e74-f1a0-76134185bbdd"
      },
      "outputs": [
        {
          "output_type": "execute_result",
          "data": {
            "text/plain": [
              "pandas._libs.tslibs.timestamps.Timestamp"
            ]
          },
          "metadata": {},
          "execution_count": 16
        }
      ],
      "source": [
        "type(df_tesla.MONTH[0])"
      ]
    },
    {
      "cell_type": "markdown",
      "metadata": {
        "id": "OtqbCrgHuoj0"
      },
      "source": [
        "### Converting from Daily to Monthly Data\n",
        "\n",
        "[Pandas .resample() documentation](https://pandas.pydata.org/pandas-docs/stable/reference/api/pandas.DataFrame.resample.html) <br>"
      ]
    },
    {
      "cell_type": "code",
      "execution_count": null,
      "metadata": {
        "id": "_HMQ-Uo5uoj0"
      },
      "outputs": [],
      "source": [
        ""
      ]
    },
    {
      "cell_type": "code",
      "execution_count": null,
      "metadata": {
        "id": "4BUT0KWRuoj0"
      },
      "outputs": [],
      "source": [
        ""
      ]
    },
    {
      "cell_type": "markdown",
      "metadata": {
        "id": "L4sxRtrPuoj1"
      },
      "source": [
        "# Data Visualisation"
      ]
    },
    {
      "cell_type": "markdown",
      "metadata": {
        "id": "H8nBUCuGuoj1"
      },
      "source": [
        "### Notebook Formatting & Style Helpers"
      ]
    },
    {
      "cell_type": "code",
      "execution_count": null,
      "metadata": {
        "id": "mM5Rk8QBuoj1"
      },
      "outputs": [],
      "source": [
        "# Create locators for ticks on the time axis"
      ]
    },
    {
      "cell_type": "code",
      "execution_count": null,
      "metadata": {
        "id": "IjTzVnrYuoj1"
      },
      "outputs": [],
      "source": [
        "# Register date converters to avoid warning messages"
      ]
    },
    {
      "cell_type": "markdown",
      "metadata": {
        "id": "-3teiR_muoj2"
      },
      "source": [
        "### Tesla Stock Price v.s. Search Volume"
      ]
    },
    {
      "cell_type": "markdown",
      "metadata": {
        "id": "3_yKOzaWuoj2"
      },
      "source": [
        "**Challenge:** Plot the Tesla stock price against the Tesla search volume using a line chart and two different axes. Label one axis 'TSLA Stock Price' and the other 'Search Trend'. "
      ]
    },
    {
      "cell_type": "code",
      "execution_count": null,
      "metadata": {
        "id": "PTqWIPhvuoj2"
      },
      "outputs": [],
      "source": [
        ""
      ]
    },
    {
      "cell_type": "markdown",
      "metadata": {
        "id": "YCBMAAG5uoj2"
      },
      "source": [
        "**Challenge**: Add colours to style the chart. This will help differentiate the two lines and the axis labels. Try using one of the blue [colour names](https://matplotlib.org/3.1.1/gallery/color/named_colors.html) for the search volume and a HEX code for a red colour for the stock price. \n",
        "<br>\n",
        "<br>\n",
        "Hint: you can colour both the [axis labels](https://matplotlib.org/3.3.2/api/text_api.html#matplotlib.text.Text) and the [lines](https://matplotlib.org/3.2.1/api/_as_gen/matplotlib.lines.Line2D.html#matplotlib.lines.Line2D) on the chart using keyword arguments (kwargs).  "
      ]
    },
    {
      "cell_type": "code",
      "execution_count": null,
      "metadata": {
        "id": "X14bd3xkuoj3"
      },
      "outputs": [],
      "source": [
        ""
      ]
    },
    {
      "cell_type": "markdown",
      "metadata": {
        "id": "lA2S_jrEuoj3"
      },
      "source": [
        "**Challenge**: Make the chart larger and easier to read. \n",
        "1. Increase the figure size (e.g., to 14 by 8). \n",
        "2. Increase the font sizes for the labels and the ticks on the x-axis to 14. \n",
        "3. Rotate the text on the x-axis by 45 degrees. \n",
        "4. Make the lines on the chart thicker. \n",
        "5. Add a title that reads 'Tesla Web Search vs Price'\n",
        "6. Keep the chart looking sharp by changing the dots-per-inch or [DPI value](https://matplotlib.org/3.1.1/api/_as_gen/matplotlib.pyplot.figure.html). \n",
        "7. Set minimum and maximum values for the y and x axis. Hint: check out methods like [set_xlim()](https://matplotlib.org/3.1.1/api/_as_gen/matplotlib.axes.Axes.set_xlim.html). \n",
        "8. Finally use [plt.show()](https://matplotlib.org/3.2.1/api/_as_gen/matplotlib.pyplot.show.html) to display the chart below the cell instead of relying on the automatic notebook output."
      ]
    },
    {
      "cell_type": "code",
      "execution_count": null,
      "metadata": {
        "id": "Sw1yT1qzuoj4"
      },
      "outputs": [],
      "source": [
        ""
      ]
    },
    {
      "cell_type": "markdown",
      "metadata": {
        "id": "f_LDDLN8uoj4"
      },
      "source": [
        "How to add tick formatting for dates on the x-axis. "
      ]
    },
    {
      "cell_type": "code",
      "execution_count": null,
      "metadata": {
        "id": "OzJmQR1-uoj4"
      },
      "outputs": [],
      "source": [
        ""
      ]
    },
    {
      "cell_type": "markdown",
      "metadata": {
        "id": "cPgUqh0-uoj4"
      },
      "source": [
        "### Bitcoin (BTC) Price v.s. Search Volume"
      ]
    },
    {
      "cell_type": "markdown",
      "metadata": {
        "id": "XqdGeaY6uoj5"
      },
      "source": [
        "**Challenge**: Create the same chart for the Bitcoin Prices vs. Search volumes. <br>\n",
        "1. Modify the chart title to read 'Bitcoin News Search vs Resampled Price' <br>\n",
        "2. Change the y-axis label to 'BTC Price' <br>\n",
        "3. Change the y- and x-axis limits to improve the appearance <br>\n",
        "4. Investigate the [linestyles](https://matplotlib.org/3.2.1/api/_as_gen/matplotlib.pyplot.plot.html ) to make the BTC price a dashed line <br>\n",
        "5. Investigate the [marker types](https://matplotlib.org/3.2.1/api/markers_api.html) to make the search datapoints little circles <br>\n",
        "6. Were big increases in searches for Bitcoin accompanied by big increases in the price?"
      ]
    },
    {
      "cell_type": "code",
      "execution_count": null,
      "metadata": {
        "id": "fGaUrN1Guoj5"
      },
      "outputs": [],
      "source": [
        ""
      ]
    },
    {
      "cell_type": "code",
      "execution_count": null,
      "metadata": {
        "id": "qH6YwJ8Suoj5"
      },
      "outputs": [],
      "source": [
        ""
      ]
    },
    {
      "cell_type": "markdown",
      "metadata": {
        "id": "WgxDjn8huoj5"
      },
      "source": [
        "### Unemployement Benefits Search vs. Actual Unemployment in the U.S."
      ]
    },
    {
      "cell_type": "markdown",
      "metadata": {
        "id": "yK5TujuUuoj6"
      },
      "source": [
        "**Challenge** Plot the search for \"unemployment benefits\" against the unemployment rate. \n",
        "1. Change the title to: Monthly Search of \"Unemployment Benefits\" in the U.S. vs the U/E Rate <br>\n",
        "2. Change the y-axis label to: FRED U/E Rate <br>\n",
        "3. Change the axis limits <br>\n",
        "4. Add a grey [grid](https://matplotlib.org/3.2.1/api/_as_gen/matplotlib.pyplot.grid.html) to the chart to better see the years and the U/E rate values. Use dashes for the line style<br> \n",
        "5. Can you discern any seasonality in the searches? Is there a pattern? "
      ]
    },
    {
      "cell_type": "code",
      "execution_count": null,
      "metadata": {
        "id": "1QstoKuWuoj6"
      },
      "outputs": [],
      "source": [
        ""
      ]
    },
    {
      "cell_type": "markdown",
      "metadata": {
        "id": "gEhA-cxyuoj6"
      },
      "source": [
        "**Challenge**: Calculate the 3-month or 6-month rolling average for the web searches. Plot the 6-month rolling average search data against the actual unemployment. What do you see in the chart? Which line moves first?\n"
      ]
    },
    {
      "cell_type": "code",
      "execution_count": null,
      "metadata": {
        "id": "-kQWpELFuoj7"
      },
      "outputs": [],
      "source": [
        ""
      ]
    },
    {
      "cell_type": "markdown",
      "metadata": {
        "id": "pr5GNWOwuoj7"
      },
      "source": [
        "### Including 2020 in Unemployment Charts"
      ]
    },
    {
      "cell_type": "markdown",
      "metadata": {
        "id": "cvtPNJiquoj7"
      },
      "source": [
        "**Challenge**: Read the data in the 'UE Benefits Search vs UE Rate 2004-20.csv' into a DataFrame. Convert the MONTH column to Pandas Datetime objects and then plot the chart. What do you see?"
      ]
    },
    {
      "cell_type": "code",
      "execution_count": null,
      "metadata": {
        "id": "U_9q8YTHuoj7"
      },
      "outputs": [],
      "source": [
        ""
      ]
    },
    {
      "cell_type": "code",
      "execution_count": null,
      "metadata": {
        "id": "EM3TKlm3uoj7"
      },
      "outputs": [],
      "source": [
        ""
      ]
    },
    {
      "cell_type": "code",
      "execution_count": null,
      "metadata": {
        "id": "rL_8hWgiuoj7"
      },
      "outputs": [],
      "source": [
        ""
      ]
    }
  ],
  "metadata": {
    "kernelspec": {
      "display_name": "Python 3",
      "language": "python",
      "name": "python3"
    },
    "language_info": {
      "codemirror_mode": {
        "name": "ipython",
        "version": 3
      },
      "file_extension": ".py",
      "mimetype": "text/x-python",
      "name": "python",
      "nbconvert_exporter": "python",
      "pygments_lexer": "ipython3",
      "version": "3.7.3"
    },
    "colab": {
      "name": "Google Trends and Data Visualisation (start).ipynb",
      "provenance": [],
      "include_colab_link": true
    }
  },
  "nbformat": 4,
  "nbformat_minor": 0
}